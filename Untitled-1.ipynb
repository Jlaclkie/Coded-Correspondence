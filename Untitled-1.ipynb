{
 "cells": [
  {
   "cell_type": "markdown",
   "metadata": {},
   "source": [
    "In this project, I try to use your Python skills to decipher the messages I receive and to encode my own responses!"
   ]
  },
  {
   "cell_type": "markdown",
   "metadata": {},
   "source": [
    "Hey there! How have you been? I've been great! I just learned about this really cool type of cipher called a Caesar Cipher. Here's how it works: You take your message, something like \"hello\" and then you shift all of the letters by a certain offset. \n",
    " \n",
    "For example, if I chose an offset of 3 and a message of \"hello\", I would encode my message by shifting each letter 3 places to the left with respect to the alphabet. So \"h\" becomes \"e\", \"e\" becomes \"b\", \"l\" becomes \"i\", and \"o\" becomes \"l\". Then I have my encoded message, \"ebiil\"! Now I can send you my message and the offset and you can decode it by shifting each letter 3 places to the right. The best thing is that Julius Caesar himself used this cipher, that's why it's called the Caesar Cipher! Isn't that so cool! Okay, now I'm going to send you a longer encoded message that you have to decode yourself!\n",
    " \n",
    "    xuo jxuhu! jxyi yi qd unqcfbu ev q squiqh syfxuh. muhu oek qrbu je tusetu yj? y xefu ie! iudt cu q cuiiqwu rqsa myjx jxu iqcu evviuj!\n",
    " \n",
    "This message has an offset of 10. Can you decode it?"
   ]
  },
  {
   "cell_type": "code",
   "execution_count": 152,
   "metadata": {},
   "outputs": [],
   "source": [
    "#Alphabet\n",
    "alphabet = \"abcdefghijklmnopqrstuvwxyz\"\n",
    "\n",
    "#Punctuation\n",
    "punc = \"!@#$%^&*().':;\"\n",
    "\n",
    "def decode(message, offset):\n",
    "    decode = []\n",
    "    for letter in message:\n",
    "        if letter in alphabet:\n",
    "            letter_index = (alphabet.index(letter)+offset)%26\n",
    "            decode.append(alphabet[letter_index])\n",
    "        elif letter in punc:\n",
    "            decode.append(letter)\n",
    "        elif letter == ' ':\n",
    "            decode.append(\" \")\n",
    "    decode = ''.join(decode)\n",
    "    print(decode)"
   ]
  },
  {
   "cell_type": "code",
   "execution_count": 153,
   "metadata": {},
   "outputs": [
    {
     "name": "stdout",
     "output_type": "stream",
     "text": [
      "hey there! this is an example of a caesar cipher. were you able to decode it i hope so! send me a message back with the same offset!\n"
     ]
    }
   ],
   "source": [
    "#Trial Message:\n",
    "trial_message = \"xuo jxuhu! jxyi yi qd unqcfbu ev q squiqh syfxuh. muhu oek qrbu je tusetu yj? y xefu ie! iudt cu q cuiiqwu rqsa myjx jxu iqcu evviuj!\"\n",
    "\n",
    "decode(trial_message,10)"
   ]
  },
  {
   "cell_type": "markdown",
   "metadata": {},
   "source": [
    "You're getting the hang of this! Okay here are two more messages, the first one is coded just like before with an offset of ten, and it contains a hint for decoding the second message!\n",
    " \n",
    "First message:\n",
    " \n",
    "    jxu evviuj veh jxu iusedt cuiiqwu yi vekhjuud.\n",
    " \n",
    "Second message:\n",
    " \n",
    "    bqdradyuzs ygxfubxq omqemd oubtqde fa oapq kagd yqeemsqe ue qhqz yadq eqogdq!"
   ]
  },
  {
   "cell_type": "code",
   "execution_count": 154,
   "metadata": {},
   "outputs": [
    {
     "name": "stdout",
     "output_type": "stream",
     "text": [
      "the offset for the second message is fourteen.\n"
     ]
    }
   ],
   "source": [
    "#First message:\n",
    "first_message = \"jxu evviuj veh jxu iusedt cuiiqwu yi vekhjuud.\"\n",
    "\n",
    "decode(first_message,10)"
   ]
  },
  {
   "cell_type": "markdown",
   "metadata": {},
   "source": [
    "You will get a message from first one says, \"the offset for the second message is fourteen.\""
   ]
  },
  {
   "cell_type": "code",
   "execution_count": 155,
   "metadata": {},
   "outputs": [
    {
     "name": "stdout",
     "output_type": "stream",
     "text": [
      "performing multiple caesar ciphers to code your messages is even more secure!\n"
     ]
    }
   ],
   "source": [
    "#Second message:\n",
    "second_message = \"bqdradyuzs ygxfubxq omqemd oubtqde fa oapq kagd yqeemsqe ue qhqz yadq eqogdq!\"\n",
    "\n",
    "decode(second_message, 14)"
   ]
  },
  {
   "cell_type": "markdown",
   "metadata": {},
   "source": [
    "Hello again friend! I knew you would love the Caesar Cipher, it's a cool, simple way to encrypt messages. Did you know that back in Caesar's time, it was considered a very secure way of communication and it took a lot of effort to crack if you were unaware of the value of the shift? That's all changed with computers! Now we can brute force these kinds of ciphers very quickly, as I'm sure you can imagine.\n",
    " \n",
    "To test your cryptography skills, this next coded message is going to be harder than the last couple to crack. It's still going to be coded with a Caesar Cipher but this time I'm not going to tell you the value of the shift. You'll have to brute force it yourself.\n",
    " \n",
    "Here's the coded message:\n",
    " \n",
    "    vhfinmxkl atox kxgwxkxw tee hy maxlx hew vbiaxkl hulhexmx. px'ee atox mh kxteer lmxi ni hnk ztfx by px ptgm mh dxxi hnk fxlltzxl ltyx.\n",
    " \n",
    "Good luck!"
   ]
  },
  {
   "cell_type": "code",
   "execution_count": 156,
   "metadata": {},
   "outputs": [
    {
     "name": "stdout",
     "output_type": "stream",
     "text": [
      "computers have rendered all of these old ciphers obsolete. we'll have to really step up our game if we want to keep our messages safe.\n"
     ]
    }
   ],
   "source": [
    "#Last message:\n",
    "last_message = \"vhfinmxkl atox kxgwxkxw tee hy maxlx hew vbiaxkl hulhexmx. px'ee atox mh kxteer lmxi ni hnk ztfx by px ptgm mh dxxi hnk fxlltzxl ltyx.\"\n",
    "\n",
    "#for i in range(1,26):\n",
    "#    print(\"Offset: \" + str(i)+\"\\n\")\n",
    "#    decode(last_message,i)\n",
    "\n",
    "decode(last_message, 7)"
   ]
  },
  {
   "cell_type": "markdown",
   "metadata": {},
   "source": [
    "Salutations! As you can see, technology has made brute forcing simple ciphers like the Caesar Cipher extremely easy, and us crypto-enthusiasts have had to get more creative and use more complicated ciphers. This next cipher I'm going to teach you is the Vigenère Cipher, invented by an Italian cryptologist named Giovan Battista Bellaso (cool name eh?) in the 16th century, but named after another cryptologist from the 16th century, Blaise de Vigenère.\n",
    " \n",
    "The Vigenère Cipher is a polyalphabetic substitution cipher, as opposed to the Caesar Cipher which was a monoalphabetic substitution cipher. What this means is that opposed to having a single shift that is applied to every letter, the Vigenère Cipher has a different shift for each individual letter. The value of the shift for each letter is determined by a given keyword.\n",
    " \n",
    "Consider the message:\n",
    " \n",
    "    barry is the spy\n",
    " \n",
    "If we want to code this message, first we choose a keyword. For this example, we'll use the keyword\n",
    " \n",
    "    dog\n",
    " \n",
    "Now we repeat the keyword over and over to generate a keyword phrase that is the same length as the message we want to code. So if we want to code the message \"barry is the spy\" our keyword phrase is \"dogdo gd ogd ogd\". Now we are ready to start coding our message. We shift each letter of our message by the place value of the corresponding letter in the keyword phrase, assuming that \"a\" has a place value of 0, \"b\" has a place value of 1, and so forth.\n",
    " \n",
    "              message:    b  a  r  r  y    i  s    t  h  e    s  p  y\n",
    " \n",
    "       keyword phrase:    d  o  g  d  o    g  d    o  g  d    o  g  d\n",
    " \n",
    "resulting place value:    24 12 11 14 10   2  15   5  1  1    4  9  21\n",
    " \n",
    "So we shift \"b\", which has an index of 1, by the index of \"d\", which is 3. This gives us an place value of 24, which is \"y\". Remember to loop back around when we reach either end of the alphabet! Then continue the trend: we shift \"a\" by the place value of \"o\", 14, and get \"m\", we shift \"r\" by the place value of \"g\", 15, and get \"l\", shift the next \"r\" by 4 places and get \"o\", and so forth. Once we complete all the shifts we end up with our coded message:\n",
    " \n",
    "    ymlok cp fbb ejv\n",
    " \n",
    "As you can imagine, this is a lot harder to crack without knowing the keyword! So now comes the hard part. I'll give you a message and the keyword, and you'll see if you can figure out how to crack it! Ready? Okay here's my message:\n",
    " \n",
    "    txm srom vkda gl lzlgzr qpdb? fepb ejac! ubr imn tapludwy mhfbz cza ruxzal wg zztcgcexxch!\n",
    " \n",
    "and the keyword to decode my message is \n",
    " \n",
    "    friends\n"
   ]
  },
  {
   "cell_type": "code",
   "execution_count": 157,
   "metadata": {},
   "outputs": [
    {
     "data": {
      "text/plain": [
       "'eoxumlgwvk'"
      ]
     },
     "execution_count": 157,
     "metadata": {},
     "output_type": "execute_result"
    }
   ],
   "source": [
    "message = \"barry is the spy\"\n",
    "keyword = \"dog\"\n",
    "\n",
    "def decode2(message,keyword):\n",
    "    index = 0\n",
    "    keyword_phrase = []\n",
    "    message_index = []\n",
    "    phrase_index = []\n",
    "    \n",
    "    #generate reference phrase\n",
    "    for letter in message:\n",
    "        if letter in alphabet:\n",
    "            keyword_index = index % len(keyword)\n",
    "            keyword_phrase.append(keyword[keyword_index])\n",
    "            index += 1\n",
    "        elif letter in punc:\n",
    "            keyword_phrase.append(letter)\n",
    "\n",
    "    #get index of message and ref. phrase\n",
    "    for i, j in zip(message, keyword_phrase):\n",
    "        if i in alphabet and j in alphabet:\n",
    "            msg_idx = alphabet.index(i)\n",
    "            phr_idx = alphabet.index(j)\n",
    "            message_index.append(msg_idx)\n",
    "            phrase_index.append(phr_idx)\n",
    "        elif i in punc:\n",
    "            message_index.append(i)\n",
    "            phrase_index.append(i)\n",
    "    \n",
    "    # decode message by returning the alphabet at index\n",
    "    zip_object = zip(message_index, phrase_index)\n",
    "    diff = []\n",
    "    for elem1, elem2 in zip_object:\n",
    "        if type(elem1) is int:\n",
    "            lst = (elem1 + elem2) % 26\n",
    "            diff.append(alphabet[lst])\n",
    "        elif elem1 in punc:\n",
    "            diff.append(elem1)\n",
    "    return \"\".join(diff)\n",
    "    return(message_index, phrase_index)    \n",
    "    return \"\".join(keyword_phrase)\n",
    "\n",
    "decode2(message, keyword)\n",
    "\n",
    "            \n",
    "\n",
    "\n",
    "\n",
    "     \n"
   ]
  },
  {
   "cell_type": "markdown",
   "metadata": {},
   "source": []
  }
 ],
 "metadata": {
  "kernelspec": {
   "display_name": "Python 3.9.7 ('base')",
   "language": "python",
   "name": "python3"
  },
  "language_info": {
   "codemirror_mode": {
    "name": "ipython",
    "version": 3
   },
   "file_extension": ".py",
   "mimetype": "text/x-python",
   "name": "python",
   "nbconvert_exporter": "python",
   "pygments_lexer": "ipython3",
   "version": "3.9.7"
  },
  "orig_nbformat": 4,
  "vscode": {
   "interpreter": {
    "hash": "8db4d4f59513d10e6fe3fb062e194adc743b3ca6f25ae88aed637aefb67b2f06"
   }
  }
 },
 "nbformat": 4,
 "nbformat_minor": 2
}
